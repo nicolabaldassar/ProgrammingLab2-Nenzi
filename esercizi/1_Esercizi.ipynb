{
 "cells": [
  {
   "cell_type": "markdown",
   "metadata": {},
   "source": [
    "### **1. Trasformare cicli in list comprehension**\n",
    "\n",
    "Fai tre esempi di cicli producono una lista e poi riscrivi lo stesso codice usando la list comprehension"
   ]
  },
  {
   "cell_type": "code",
   "execution_count": 105,
   "metadata": {},
   "outputs": [
    {
     "name": "stdout",
     "output_type": "stream",
     "text": [
      "lista scritta normalmente: [0, 1, 2, 3, 4, 5, 6, 7, 8, 9]\n",
      "lista scritta con la list comprehension: [0, 1, 2, 3, 4, 5, 6, 7, 8, 9]\n"
     ]
    }
   ],
   "source": [
    "#esempio 1\n",
    "list = []\n",
    "for i in range(10):\n",
    "    list.append(i)\n",
    "print(\"lista scritta normalmente: \" + str(list))\n",
    "\n",
    "#con list comprehension\n",
    "list_lc = [i for i in range(10)]\n",
    "print(\"lista scritta con la list comprehension: \" + str(list_lc))\n"
   ]
  },
  {
   "cell_type": "code",
   "execution_count": 106,
   "metadata": {},
   "outputs": [
    {
     "name": "stdout",
     "output_type": "stream",
     "text": [
      "lista scritta normalmente: [0, 2, 4, 6, 8, 10, 12, 14, 16, 18]\n",
      "lista scritta con list comprehension: [0, 2, 4, 6, 8, 10, 12, 14, 16, 18]\n"
     ]
    }
   ],
   "source": [
    "#esempio 2\n",
    "list2 = []\n",
    "for i in range(20):\n",
    "    if i%2==0:\n",
    "        list2.append(i)\n",
    "print(\"lista scritta normalmente: \" + str(list2))\n",
    "\n",
    "#con list comprehension\n",
    "list2_lc = [i for i in range(20) if i%2==0]\n",
    "print(\"lista scritta con list comprehension: \" + str(list2_lc))\n",
    "\n"
   ]
  },
  {
   "cell_type": "code",
   "execution_count": 107,
   "metadata": {},
   "outputs": [
    {
     "name": "stdout",
     "output_type": "stream",
     "text": [
      "lista scritta normalmente: [2, 10, 26, 50, 82]\n",
      "lista scritta con list comprehension: [2, 10, 26, 50, 82]\n"
     ]
    }
   ],
   "source": [
    "#esempio 3\n",
    "list3 = []\n",
    "for i in range(10):\n",
    "    if(i%2!=0):\n",
    "        list3.append(i*i+1)\n",
    "print(\"lista scritta normalmente: \" + str(list3))\n",
    "\n",
    "#con list comprehension\n",
    "list3_lc = [i*i+1 for i in range(10) if i%2!=0]\n",
    "print(\"lista scritta con list comprehension: \" + str(list3_lc))"
   ]
  },
  {
   "cell_type": "markdown",
   "metadata": {},
   "source": [
    "### **2. Vettore di Numeri Primi**\n",
    "\n",
    "1. **Crea un vettore** contenente tutti i numeri primi compresi tra **0 e 10**  \n",
    "   _(Puoi scriverli direttamente nell'array)._\n",
    "\n",
    "2. **Conta quanti numeri ci sono nel vettore** utilizzando la funzione `len()`.  **Ottieni lo stesso numero** accedendo all'attributo `.size` del vettore.\n",
    "\n",
    "3. Quale pensi sia il tipo di dato (`dtype`) del vettore?  Prova a rispondere senza eseguire il codice e Verifica la tua risposta accedendo all'attributo `.dtype` del vettore\n",
    "\n",
    "4. Scrivi l'array usando una list comprehension che controlla che i numeri siano primi. "
   ]
  },
  {
   "cell_type": "code",
   "execution_count": 110,
   "metadata": {},
   "outputs": [
    {
     "name": "stdout",
     "output_type": "stream",
     "text": [
      "Requirement already satisfied: numpy in /Users/nicola/miniconda3/lib/python3.12/site-packages (2.2.4)\n"
     ]
    }
   ],
   "source": [
    "!pip install numpy "
   ]
  },
  {
   "cell_type": "code",
   "execution_count": 113,
   "metadata": {},
   "outputs": [
    {
     "name": "stdout",
     "output_type": "stream",
     "text": [
      "array di primi: [2 3 5 7]\n",
      "lunghezza array di primi con \"len\": 4\n",
      "lunghezza array di primi con \"np.size\": 4\n",
      "tipo dell'array con \"np.dtype\": int64\n",
      "vettore di primi creato con la list comprehension (e funzione di supporto): [2, 3, 5, 7]\n"
     ]
    }
   ],
   "source": [
    "import numpy as np\n",
    "import math\n",
    "#1\n",
    "primi = np.array([2, 3, 5, 7])\n",
    "print(\"array di primi: \" + str(primi))\n",
    "#2\n",
    "print(\"lunghezza array di primi con \\\"len\\\": \" + str(len(primi)))\n",
    "print(\"lunghezza array di primi con \\\"np.size\\\": \" + str(np.size(primi)))\n",
    "#3\n",
    "#Probabilmente int64\n",
    "print(\"tipo dell'array con \\\"np.dtype\\\": \" + str(np.array(primi).dtype))\n",
    "#4\n",
    "def isPrime(n):\n",
    "    for i in range(2, n):\n",
    "        if n%i==0:\n",
    "            return False\n",
    "    return True\n",
    "\n",
    "primi_lc = [i for i in range(2, 10) if isPrime(i)]\n",
    "print(\"vettore di primi creato con la list comprehension (e funzione di supporto): \" + str(primi_lc))"
   ]
  },
  {
   "cell_type": "markdown",
   "metadata": {},
   "source": [
    "### **3.  Operazioni su array**\n",
    "Crea un array **a**, 1D (senza digitarlo esplicitamente), e genera due nuovi array **b**, contenente una sottostringa a piacere e **c** che è il reverse dell'array **a** (esempio [1,2,3] diventa [3,2,1]) .  Dividi l'array **a** per l'array **c**. Fai la stessa cosa per una lista."
   ]
  },
  {
   "cell_type": "code",
   "execution_count": 103,
   "metadata": {},
   "outputs": [
    {
     "name": "stdout",
     "output_type": "stream",
     "text": [
      "NUMPY ARRAY\n",
      "a: [1 2 3 4 5]\n",
      "b1: [1 2 3]\n",
      "b2: [4 5]\n",
      "c: [5 4 3 2 1]\n",
      "a/c: [0.2 0.5 1.  2.  5. ]\n",
      "\n",
      "\n",
      "LIST\n",
      "list_a: [1, 2, 3, 4, 5]\n",
      "list_b1: [1, 2, 3]\n",
      "list_b2: [4, 5]\n",
      "list_c: [5, 4, 3, 2, 1]\n",
      "a/c: [0.2, 0.5, 1.0, 2.0, 5.0]\n"
     ]
    }
   ],
   "source": [
    "print(\"NUMPY ARRAY\")\n",
    "#1\n",
    "a = np.arange(1, 6)\n",
    "print(\"a: \" + str(a))\n",
    "#2\n",
    "b1 = a[0:3]\n",
    "b2 = a[3:5]\n",
    "print(\"b1: \" + str(b1))\n",
    "print(\"b2: \" + str(b2))\n",
    "#3\n",
    "c = a[::-1]\n",
    "print(\"c: \" + str(c))\n",
    "#4\n",
    "print(\"a/c: \" + str(a/c))\n",
    "print(\"\\n\")\n",
    "\n",
    "#rifare le stesse cosa con le liste\n",
    "print(\"LIST\")\n",
    "\n",
    "#1\n",
    "list_a = [i for i in range(1, 6)]\n",
    "print(\"list_a: \" + str(list_a))\n",
    "#2\n",
    "list_b1 = list_a[0:3]\n",
    "list_b2 = list_a[3:5]\n",
    "print(\"list_b1: \"+ str(list_b1))\n",
    "print(\"list_b2: \"+ str(list_b2))\n",
    "#3\n",
    "list_c = list_a[::-1]\n",
    "print(\"list_c: \" + str(list_c))\n",
    "#4\n",
    "res = [list_a[i] / list_c[i] for i in range(len(list_a))]\n",
    "print(\"a/c: \" + str(res))"
   ]
  }
 ],
 "metadata": {
  "kernelspec": {
   "display_name": "base",
   "language": "python",
   "name": "python3"
  },
  "language_info": {
   "codemirror_mode": {
    "name": "ipython",
    "version": 3
   },
   "file_extension": ".py",
   "mimetype": "text/x-python",
   "name": "python",
   "nbconvert_exporter": "python",
   "pygments_lexer": "ipython3",
   "version": "3.12.9"
  }
 },
 "nbformat": 4,
 "nbformat_minor": 2
}
