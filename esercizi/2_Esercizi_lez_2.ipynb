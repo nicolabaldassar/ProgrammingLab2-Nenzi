{
 "cells": [
  {
   "cell_type": "code",
   "execution_count": 1,
   "metadata": {},
   "outputs": [],
   "source": [
    "import numpy as np"
   ]
  },
  {
   "cell_type": "markdown",
   "metadata": {},
   "source": [
    "### **1. Indicizzazione booleana**\n",
    "\n",
    "1. Creare un nuovo vettore con tutti i numeri primi tra 0 e 20. I numeri primi compresi tra 0 e 20 sono: **2, 3, 5, 7, 11, 13, 17, 19**.\n",
    "\n",
    "2. Utilizza un test logico (ad esempio `>`, `<`, `==`, `!=`) per **selezionare tutte le voci del vettore maggiori di 10**.\n",
    "\n",
    "3. Utilizza un test logico per selezionare **tutti i numeri primi pari** dalla lista.  \n"
   ]
  },
  {
   "cell_type": "code",
   "execution_count": 2,
   "metadata": {},
   "outputs": [
    {
     "name": "stdout",
     "output_type": "stream",
     "text": [
      "numeri primi maggiori di 10: [11 13 17 19]\n",
      "posizioni in array dei primi pari presenti nell'array: (array([0]),)\n"
     ]
    }
   ],
   "source": [
    "primi = np.array([2, 3, 5, 7, 11, 13, 17, 19])\n",
    "print(\"numeri primi maggiori di 10: \" + str(primi[primi > 10]))\n",
    "print(\"posizioni in array dei primi pari presenti nell'array: \" + str(np.where(primi%2==0)))"
   ]
  },
  {
   "cell_type": "markdown",
   "metadata": {},
   "source": [
    "### **2.  Operazioni su array**\n",
    "Crea un array **a**, 2D (senza digitarlo esplicitamente), e genera due nuovi array **b**, contenente la sua 2ª e 4ª riga, e **c** contenente solo la 3ª.  Dividi ogni colonna dell'array a, elemento per elemento, con l'array c."
   ]
  },
  {
   "cell_type": "code",
   "execution_count": 3,
   "metadata": {},
   "outputs": [
    {
     "name": "stdout",
     "output_type": "stream",
     "text": [
      "array a:\n",
      "[[ 0  1  2  3]\n",
      " [ 4  5  6  7]\n",
      " [ 8  9 10 11]\n",
      " [12 13 14 15]]\n",
      "\n",
      "\n",
      "array b con la seconda e quarta riga di a:\n",
      "[[ 4  5  6  7]\n",
      " [12 13 14 15]]\n",
      "\n",
      "\n",
      "array c con la terza riga di a:\n",
      "[ 8  9 10 11]\n",
      "\n",
      "\n",
      "[[0.         0.11111111 0.2        0.27272727]\n",
      " [0.5        0.55555556 0.6        0.63636364]\n",
      " [1.         1.         1.         1.        ]\n",
      " [1.5        1.44444444 1.4        1.36363636]]\n"
     ]
    }
   ],
   "source": [
    "#\n",
    "matrix1 = np.arange(16).reshape(4, 4)\n",
    "print(\"array a:\")\n",
    "print(matrix1)\n",
    "print(\"\\n\")\n",
    "#\n",
    "matrix1_b = matrix1[[1, 3], :]\n",
    "print(\"array b con la seconda e quarta riga di a:\")\n",
    "print(matrix1_b)\n",
    "print(\"\\n\")\n",
    "#\n",
    "matrix1_c = matrix1[2, :]\n",
    "print(\"array c con la terza riga di a:\")\n",
    "print(matrix1_c)\n",
    "print(\"\\n\")\n",
    "#\n",
    "print(matrix1 / matrix1_c)  #da rivedere"
   ]
  },
  {
   "cell_type": "markdown",
   "metadata": {},
   "source": [
    "### **3. Seleziona il numero più vicino a 0.5 in un array casuale**\n",
    "Genera un array 10 x 3 con numeri casuali nell'intervallo [0,1].\n",
    "Per ogni riga, seleziona il numero più vicino a 0.5. Per farlo usa il fancy indexing."
   ]
  },
  {
   "cell_type": "code",
   "execution_count": 4,
   "metadata": {},
   "outputs": [
    {
     "name": "stdout",
     "output_type": "stream",
     "text": [
      "array 10x3 di valori casuali tra 0 e 1:\n",
      "[[0.62147496 0.7181718  0.74370553]\n",
      " [0.07553578 0.54969639 0.74900345]\n",
      " [0.09988164 0.45111455 0.0984556 ]\n",
      " [0.14404318 0.62884602 0.73497653]\n",
      " [0.52182693 0.81522981 0.50826058]\n",
      " [0.12563636 0.58548338 0.63824276]\n",
      " [0.64800745 0.25875693 0.7558658 ]\n",
      " [0.02712409 0.01664185 0.73697966]\n",
      " [0.3164677  0.09353988 0.39345826]\n",
      " [0.16715711 0.9340311  0.28826316]]\n",
      "\n",
      "\n",
      "il valore più vicino a 0.5 nella riga numero 0 è: 0.6214749625179015\n",
      "il valore più vicino a 0.5 nella riga numero 1 è: 0.5496963946171237\n",
      "il valore più vicino a 0.5 nella riga numero 2 è: 0.45111455061156214\n",
      "il valore più vicino a 0.5 nella riga numero 3 è: 0.6288460153921547\n",
      "il valore più vicino a 0.5 nella riga numero 4 è: 0.508260584922741\n",
      "il valore più vicino a 0.5 nella riga numero 5 è: 0.5854833801010881\n",
      "il valore più vicino a 0.5 nella riga numero 6 è: 0.6480074478838099\n",
      "il valore più vicino a 0.5 nella riga numero 7 è: 0.7369796620469036\n",
      "il valore più vicino a 0.5 nella riga numero 8 è: 0.3934582611435389\n",
      "il valore più vicino a 0.5 nella riga numero 9 è: 0.28826315631826327\n"
     ]
    }
   ],
   "source": [
    "#\n",
    "random_array = np.random.rand(10, 3)\n",
    "print(\"array 10x3 di valori casuali tra 0 e 1:\")\n",
    "print(random_array)\n",
    "print(\"\\n\")\n",
    "#\n",
    "for i in range(len(random_array)):  #numero di riga\n",
    "    nearest_column = 0\n",
    "    for j in range(random_array.shape[1]):  #numero di colonna\n",
    "        if abs(random_array[i, j] - 0.5) < abs(random_array[i, nearest_column] - 0.5):\n",
    "            nearest_column = j\n",
    "    print(\"il valore più vicino a 0.5 nella riga numero \" + str(i) + \" è: \" + str(random_array[i, nearest_column]))\n"
   ]
  },
  {
   "cell_type": "markdown",
   "metadata": {},
   "source": [
    "### **4. Analisi della Frequenza Cardiaca con NumPy**\n",
    "\n",
    "1. **Supponiamo che i seguenti valori rappresentino la tua frequenza cardiaca** registrata dal tuo Fitbit durante la giornata:  \n",
    "   `68, 65, 77, 110, 160, 161, 162, 161, 160, 161, 162, 163, 164, 163, 162, 100, 90, 97, 72, 60, 70`  \n",
    "   Inserisci questi valori in un array NumPy.\n",
    "\n",
    "2. **Trova la frequenza cardiaca minima** registrata durante la giornata.  \n",
    "   _(Questo valore rappresenta approssimativamente la tua frequenza cardiaca a riposo, un comune indicatore di salute.)_\n",
    "\n",
    "3. **Trova la frequenza cardiaca massima** registrata durante la giornata.  \n",
    "   _(Questo valore è un'indicazione dell'intensità dell'esercizio fisico.)_\n",
    "\n",
    "4. **Calcoliamo la percentuale di letture effettuate mentre stavi facendo esercizio fisico (frequenza cardiaca sopra a 120)**:  \n",
    "   - Crea un nuovo array che contiene `True` quando la frequenza cardiaca è **superiore a 120**, e `False` quando è **inferiore o uguale a 120**.\n",
    "   - Utilizza una funzione di sintesi per calcolare la percentuale di osservazioni in cui la tua frequenza cardiaca era sopra 120.\n"
   ]
  },
  {
   "cell_type": "code",
   "execution_count": 162,
   "metadata": {},
   "outputs": [
    {
     "name": "stdout",
     "output_type": "stream",
     "text": [
      "valore minimo: 60\n",
      "valore massimo: 164\n",
      "La percentuale di volte in cui la frequenza cardiaca era maggiore di 120 è del 52.38%\n"
     ]
    }
   ],
   "source": [
    "#1\n",
    "freq = np.array([68, 65, 77, 110, 160, 161, 162, 161, 160, 161, 162, 163, 164, 163, 162, 100, 90, 97, 72, 60, 70])\n",
    "#2\n",
    "min_value = np.min(freq)\n",
    "print(\"valore minimo: \" + str(min_value))\n",
    "#3\n",
    "max_value = np.max(freq)\n",
    "print(\"valore massimo: \" + str(max_value))\n",
    "#4\n",
    "freq_esercizio = freq > 120 #--> [False False False False True True True True True True True True True True True False False False False False False]\n",
    "valori_maggiori = np.sum(freq_esercizio)\n",
    "prob = valori_maggiori * 100 / len(freq_esercizio)\n",
    "print(\"La percentuale di volte in cui la frequenza cardiaca era maggiore di 120 è del \" + str(prob.round(2)) + \"%\")"
   ]
  },
  {
   "cell_type": "markdown",
   "metadata": {},
   "source": [
    "### **5. Manipolazione di vettori**\n",
    "\n",
    "1. Creare un vettore contenente i seguenti stipendi: **50.000, 105.250, 55.000, 89.000**.  \n",
    "Qual è il costo totale del personale (somma di tutti gli stipendi dell'azienda)?\n",
    "\n",
    "2. Supponiamo che il nostro malvagio CEO abbia deciso di darsi un aumento.  \n",
    "Modifica il vettore degli stipendi in modo che il CEO, la persona che guadagna **105.250 dollari**, riceva un aumento del **15%**.\n",
    "\n",
    "3. Il **115%** di **105.250 dollari** è **121.037,50 dollari**.  \n",
    "Questo valore è presente nel tuo array? Se no, riesci a capire il motivo?\n",
    "\n",
    "4. Ricrea il vettore e utilizza l'argomento **`dtype`** in modo che, quando il CEO riceve un aumento del **15%**, il suo stipendio finale sia esattamente **121.037,50 dollari**.\n",
    "\n",
    "5. Questo aumento ha infastidito l'impiegata con lo stipendio più basso (**50.000 dollari**), che ora pretende un aumento del **20%**.  \n",
    "Modifica il vettore per riflettere questo cambiamento.\n",
    "\n",
    "6. L'aumento dato al CEO e all'impiegata ha irritato gli altri due dipendenti, quindi ora devono ricevere un aumento del **10%**.  \n",
    "Modifica il vettore di conseguenza.\n",
    "\n",
    "7. Calcola il **costo totale del personale** dopo tutti gli aumenti.  \n",
    "Alla fine, quanto è costato all'azienda l'aumento di circa **16.000 dollari** del CEO?\n"
   ]
  },
  {
   "cell_type": "code",
   "execution_count": null,
   "metadata": {},
   "outputs": [],
   "source": [
    "#funzione di supporto per l'esercizio\n",
    "#prende l'array da modificare, lo stipendio da modificare e il valore di aumento \n",
    "def change_value(array, stipendio_iniziale, perc_aumento):\n",
    "    for i in range(len(array)):\n",
    "        if array[i] == stipendio_iniziale:\n",
    "            array[i] *= perc_aumento\n",
    "    return(array)"
   ]
  },
  {
   "cell_type": "code",
   "execution_count": 164,
   "metadata": {},
   "outputs": [
    {
     "name": "stdout",
     "output_type": "stream",
     "text": [
      "stipendi:iniziale: [ 50000 105250  55000  89000]\n",
      "somma degli stipendi iniziali: 299250\n",
      "stipendi con aumento al CEO (int): [ 50000 121037  55000  89000]\n",
      "stipendi con aumento al CEO (float): [ 50000.  121037.5  55000.   89000. ]\n",
      "stipendi con aumento alla segretaria: [ 60000.  121037.5  55000.   89000. ]\n",
      "stipendi con aumento agli altri dipendenti: [ 60000.  121037.5  60500.   97900. ]\n",
      "il costo totale degli aumenti equivale a: 40187.5\n"
     ]
    }
   ],
   "source": [
    "#1\n",
    "stipendi_iniziale = np.array([50000, 105250, 55000, 89000])\n",
    "print(\"stipendi:iniziale: \" + str(stipendi_iniziale))\n",
    "print(\"somma degli stipendi iniziali: \" + str(np.sum(stipendi_iniziale)))\n",
    "#2\n",
    "stipendi = np.copy(stipendi_iniziale)\n",
    "stipendi = change_value(stipendi, 105250, 1.15)\n",
    "print(\"stipendi con aumento al CEO (int): \" + str(stipendi))\n",
    "#3\n",
    "#il cambiamento non è preciso perché è un array di int\n",
    "#4\n",
    "#stipendi_float = np.array([50000, 105250, 55000, 89000], dtype=float)\n",
    "stipendi_float = np.array(stipendi_iniziale, dtype=float)\n",
    "stipendi_float = change_value(stipendi_float, 105250, 1.15)\n",
    "print(\"stipendi con aumento al CEO (float): \" + str(stipendi_float))\n",
    "#5\n",
    "stipendi_float = change_value(stipendi_float, 50000, 1.2)\n",
    "print(\"stipendi con aumento alla segretaria: \" + str(stipendi_float))\n",
    "#6\n",
    "stipendi_float = change_value(stipendi_float, 55000, 1.1)\n",
    "stipendi_float = change_value(stipendi_float, 89000, 1.1)\n",
    "print(\"stipendi con aumento agli altri dipendenti: \" + str(stipendi_float))\n",
    "#7\n",
    "costo_aumenti = 0\n",
    "for i in range(len(stipendi_iniziale)):\n",
    "    costo_aumenti += stipendi_float[i] - stipendi_iniziale[i]\n",
    "print(\"il costo totale degli aumenti equivale a: \" + str(costo_aumenti.round(1)))"
   ]
  },
  {
   "cell_type": "markdown",
   "metadata": {},
   "source": [
    "### **6. Valori di Co2**\n",
    "\n",
    "1. Carica tramite numpy il file generato e salvato a lezione sulle emissioni di CO2\n",
    "\n",
    "2. Calcola quanti valori ci CO2 sono sopra la soglia di 18  tonnellate per anno ed il loro valore medio\n",
    "\n",
    "3. Calcola la frazione totale di emissione sopra la soglia (somma totale sopra la soglia/somma totale)"
   ]
  },
  {
   "cell_type": "code",
   "execution_count": 26,
   "metadata": {},
   "outputs": [
    {
     "name": "stdout",
     "output_type": "stream",
     "text": [
      "Valori di CO2 sopra le 18 tonnellate: 45\n",
      "La media dei valori superiori a 18 tonnellate è di 23.55\n",
      "La frazione totale di emissione sopra la soglie è 45/101\n"
     ]
    }
   ],
   "source": [
    "#1\n",
    "emissioni = np.loadtxt('/Users/nicola/Git/ProgrammingLab2-Nenzi/esercizi/data/emissioni_co2.csv',\n",
    "delimiter=\",\",\n",
    "dtype=str\n",
    ")\n",
    "\n",
    "#2\n",
    "valori_sopra_soglia = np.array([])\n",
    "for line in emissioni:\n",
    "    if line[0] == \"Paese\":\n",
    "        #skip header\n",
    "        continue\n",
    "    if float(line[2]) > 18:\n",
    "        valori_sopra_soglia = np.append(valori_sopra_soglia, float(line[2]))\n",
    "print(\"Valori di CO2 sopra le 18 tonnellate: \" + str(len(valori_sopra_soglia)))\n",
    "print(\"La media dei valori superiori a 18 tonnellate è di \" + str(round(np.mean(valori_sopra_soglia), 2)))\n",
    "\n",
    "#3\n",
    "print(\"La frazione totale di emissione sopra la soglie è \" + str(len(valori_sopra_soglia)) + \"/\" + str(len(emissioni)))\n"
   ]
  },
  {
   "cell_type": "markdown",
   "metadata": {},
   "source": [
    "### **7. Analisi di una matrice**\n",
    "Data la matrice survey con età, reddito e anni di istruzione\n",
    "\n",
    "survey_matrix = np.array([\n",
    "    [25, 40000, 10],\n",
    "    [32, 52000, 12],\n",
    "    [40, 63000, 14],\n",
    "    [29, 47000, 11],\n",
    "    [35, 58000, 13]\n",
    "])\n",
    "\n",
    "\n",
    "1. Seleziona dalla matrice solo gli intervistati con **almeno 12 anni di istruzione** utilizzando un test logico.\n",
    "\n",
    "2. In un'unica riga di codice, seleziona i **redditi** degli intervistati con **almeno 12 anni di istruzione**.\n",
    "\n",
    "3. In un'unica riga di codice, calcola il **reddito medio** degli intervistati con **almeno 12 anni di istruzione**.\n"
   ]
  },
  {
   "cell_type": "code",
   "execution_count": 103,
   "metadata": {},
   "outputs": [
    {
     "name": "stdout",
     "output_type": "stream",
     "text": [
      "intervistati con almeno 12 anni di istruzione: [[   32 52000    12]\n",
      " [   40 63000    14]\n",
      " [   35 58000    13]]\n",
      "Redditi degli intervistati con almeno 12 anni di istruzione: [52000 63000 58000]\n",
      "Reddito medio intervistati con almeno 12 anni di istruzione: 57666.666666666664\n"
     ]
    }
   ],
   "source": [
    "survey_matrix = np.array([\n",
    "    [25, 40000, 10],\n",
    "    [32, 52000, 12],\n",
    "    [40, 63000, 14],\n",
    "    [29, 47000, 11],\n",
    "    [35, 58000, 13]\n",
    "])\n",
    "\n",
    "#1\n",
    "intervistati_sup_12 = survey_matrix[survey_matrix[:, 2] >= 12]\n",
    "print(\"intervistati con almeno 12 anni di istruzione: \" + str(intervistati_sup_12))\n",
    "\n",
    "#2\n",
    "print(\"Redditi degli intervistati con almeno 12 anni di istruzione: \" + str(survey_matrix[survey_matrix[:, 2] >= 12, 1]))\n",
    "\n",
    "#3\n",
    "print(\"Reddito medio intervistati con almeno 12 anni di istruzione: \" + str(np.mean(survey_matrix[survey_matrix[:, 2] >= 12, 1])))"
   ]
  },
  {
   "cell_type": "markdown",
   "metadata": {},
   "source": [
    "### **8. Rimpiazzare gli outliers**\n",
    "\n",
    "Vediamo se possiamo ripulire alcuni dati mancanti. Immagina di essere il responsabile dei registri di un comune locale con **500 cittadini** di **55 anni e oltre**.  \n",
    "\n",
    "La città è famosa per la sua longevità e un team di ricercatori ti ha chiesto di identificare **il cittadino più anziano**.  \n",
    "\n",
    "Il problema è che, occasionalmente, nei registri si verificano errori e in quei casi viene inserita l'età **999** invece dell'età corretta.  \n",
    "\n",
    "Rimuovi i dati errati dall'array e determina l'età del cittadino più anziano.\n"
   ]
  },
  {
   "cell_type": "code",
   "execution_count": 69,
   "metadata": {},
   "outputs": [
    {
     "name": "stdout",
     "output_type": "stream",
     "text": [
      "Il cittadino più anziano ha 112 anni.\n"
     ]
    }
   ],
   "source": [
    "ages = np.array([92, 108, 75, 63, 62, 66, 90, 98, 97, 92, 60, 107, 90, 71, 97, 86, 55, 55,\n",
    "                 98, 57, 96, 104, 96, 94, 72, 98, 111, 98, 89, 69, 77, 92, 85, 101, 93, 100,\n",
    "                 90, 101, 96, 98, 999, 87, 106, 86, 108, 55, 67, 65, 68, 59, 67, 72, 57, 79,\n",
    "                 95, 67, 86, 70, 91, 111, 67, 75, 59, 88, 90, 99, 94, 65, 111, 103, 100, 70,\n",
    "                 63, 65, 100, 110, 999, 70, 57, 75, 56, 104, 111, 90, 74, 100, 90, 86, 88, 99,\n",
    "                 58, 103, 88, 103, 64, 96, 105, 89, 83, 65, 100, 62, 73, 105, 83, 105, 58, 96,\n",
    "                 77, 74, 95, 109, 91, 101, 91, 999, 63, 111, 97, 108, 75, 77, 73, 58, 94, 83,\n",
    "                 90, 61, 110, 107, 105, 85, 64, 66, 71, 107, 105, 72, 78, 66, 100, 102, 72, 999,\n",
    "                 74, 68, 73, 72, 90, 93, 99, 55, 92, 83, 58, 71, 89, 75, 98, 87, 999, 78,\n",
    "                 97, 71, 106, 83, 58, 81, 100, 72, 93, 70, 65, 60, 95, 107, 94, 77, 87, 90,\n",
    "                 82, 56, 99, 107, 86, 56, 73, 96, 64, 69, 64, 92, 57, 104, 110, 69, 66, 68,\n",
    "                 84, 89, 72, 80, 55, 75, 87, 57, 106, 69, 66, 62, 102, 76, 111, 999, 96, 83,\n",
    "                 84, 61, 102, 63, 107, 63, 76, 58, 83, 58, 61, 71, 77, 90, 74, 100, 103, 74,\n",
    "                 92, 102, 63, 87, 93, 61, 63, 86, 74, 98, 64, 999, 78, 95, 84, 81, 107, 85,\n",
    "                 79, 82, 89, 65, 107, 57, 74, 77, 97, 92, 58, 96, 105, 60, 55, 74, 57, 80,\n",
    "                 62, 85, 87, 62, 999, 71, 74, 70, 97, 59, 82, 96, 105, 70, 89, 105, 60, 70,\n",
    "                 87, 999, 64, 108, 107, 104, 85, 95, 108, 74, 64, 97, 89, 88, 79, 67, 81, 92,\n",
    "                 63, 80, 76, 94, 104, 67, 73, 61, 99, 96, 68, 90, 86, 79, 85, 111, 75, 98,\n",
    "                 81, 111, 108, 103, 85, 72, 108, 102, 999, 64, 107, 112, 66, 93, 89, 78, 66, 92,\n",
    "                 63, 101, 92, 64, 72, 56, 71, 64, 87, 78, 107, 85, 109, 95, 69, 111, 64, 72,\n",
    "                 55, 66, 99, 57, 78, 55, 58, 90, 88, 71, 90, 103, 92, 98, 67, 97, 77, 68,\n",
    "                 77, 59, 78, 69, 77, 81, 61, 99, 999, 85, 78, 104, 97, 95, 74, 70, 69, 83,\n",
    "                 68, 68, 77, 60, 85, 82, 93, 66, 71, 62, 64, 107, 999, 65, 78, 59, 83, 67,\n",
    "                 108,  58,  95, 106,  83,  79,  67,  59,  96,  90,  55,  55,  96, 109,  82,  55, 101,  58,\n",
    "                 97, 77, 60, 81, 999, 81, 75, 100, 66, 65, 105, 94, 101, 56, 999, 59, 105, 59,\n",
    "                 93, 56, 104, 74, 81, 62, 76, 65, 107, 60, 107, 98, 77, 86, 83, 104, 74, 69,\n",
    "                 97, 80, 91, 56, 108, 87, 65, 91, 93, 60, 91, 110, 107, 88, 96, 70, 60, 99,\n",
    "                 66, 91, 107, 65, 81, 109, 84, 106, 80, 92, 78, 84, 91, 59])\n",
    "\n",
    "#1\n",
    "correct_ages = ages[ages != 999]\n",
    "\n",
    "#2\n",
    "print(\"Il cittadino più anziano ha \" + str(np.max(correct_ages)) + \" anni.\")"
   ]
  },
  {
   "cell_type": "markdown",
   "metadata": {},
   "source": [
    "### 9.**Generazione random di storie**\n",
    "\n",
    "Usando la lista qui sotto, estrai casualmente **5 parole con reinserimento** (cioè, i duplicati sono ammessi).  \n",
    "\n",
    "Successivamente, inserisci casualmente queste parole negli spazi vuoti (indicati con \"_\") nella seguente frase:\n",
    "\n",
    "*\"In epoche passate, viveva una donna saggia che era molto orgogliosa dell'antico __ che proteggeva. Quando un anziano del villaggio venne a chiederle consiglio su come garantire al meglio un raccolto abbondante e le offrì il __ come dono, i suoi occhi si spalancarono e lei esclamò una sola parola, \"__\".  \n",
    "Radunò il villaggio e, per i successivi 100 giorni, su sua richiesta, gli abitanti cercarono nella foresta un __.  \n",
    "Nel 101° giorno, il bambino più giovane del villaggio trovò ciò che stavano cercando e tutti corsero dalla donna saggia per donarglielo.  \n",
    "Con un sorriso da un orecchio all’altro, e cantando canti di festa, la donna saggia guardò i suoi compaesani e disse: \"Ora è giunto il tempo del banchetto - nessuno rimarrà mai più senza __!\" Ci fu grande gioia e celebrazione.\"*\n"
   ]
  },
  {
   "cell_type": "code",
   "execution_count": 100,
   "metadata": {},
   "outputs": [
    {
     "name": "stdout",
     "output_type": "stream",
     "text": [
      "Parole estratte: ['BENEFICIARIO' 'NEMICO' 'GENERALE' 'CARAMELLA ZUCCHERATA'\n",
      " 'CARAMELLA ZUCCHERATA']\n",
      "parole mescolate: ['NEMICO' 'CARAMELLA ZUCCHERATA' 'GENERALE' 'CARAMELLA ZUCCHERATA'\n",
      " 'BENEFICIARIO']\n",
      "\n",
      "\n",
      "In epoche passate, viveva una donna saggia che era molto orgogliosa dell'antico NEMICO che proteggeva. Quando un anziano del villaggio venne a chiederle consiglio su come garantire al meglio un raccolto abbondante e le offrì il CARAMELLA ZUCCHERATA come dono, i suoi occhi si spalancarono e lei esclamò una sola parola, \"GENERALE\".  \n",
      "Radunò il villaggio e, per i successivi 100 giorni, su sua richiesta, gli abitanti cercarono nella foresta un CARAMELLA ZUCCHERATA.  \n",
      "Nel 101° giorno, il bambino più giovane del villaggio trovò ciò che stavano cercando e tutti corsero dalla donna saggia per donarglielo.  \n",
      "Con un sorriso da un orecchio all’altro, e cantando canti di festa, la donna saggia guardò i suoi compaesani e disse: \"Ora è giunto il tempo del banchetto - nessuno rimarrà mai più senza BENEFICIARIO!\" Ci fu grande gioia e celebrazione.\n",
      "\n"
     ]
    }
   ],
   "source": [
    "lista_parole = [\n",
    "    'INSEDIAMENTO', 'SEPARAZIONE', 'DIFFERENZA', 'APPLICAZIONE', 'ATTEGGIAMENTO', 'VERDURA', 'IMPERO', 'RICEVIMENTO',\n",
    "    'IGNORANZA', 'BIOGRAFIA', 'VISIONE', 'AGENTE DI POLIZIA', 'PROVA', 'PRESTAZIONE', 'PRESENTAZIONE', 'PARENTE',\n",
    "    'GIUSTIFICAZIONE', 'FILOSOFIA', 'DIREZIONE', 'BENEFICIARIO', 'BATTERIA', 'CERIMONIA', 'AGONIA', 'RECUPERO',\n",
    "    'ALFABETIZZAZIONE', 'CONSEGNA', 'SERBATOIO', 'VOLONTARIO', 'DEPOSITO', 'BIRILLO DA BOWLING', 'NEMICO', 'ANNUNCIO',\n",
    "    'CARAMELLA ZUCCHERATA', 'FULMINE', 'PALLONCINO', 'COPERTA', 'SCOPERTA', 'PENALITÀ', 'GENERALE', 'ALPACA',\n",
    "    'VANTAGGIO', 'HOT DOG', 'ABITO', 'MATEMATICA', 'VARIANTE'\n",
    "]\n",
    "\n",
    "#1\n",
    "choose_words = np.array([])\n",
    "for _ in range (5):\n",
    "    index = np.random.randint(len(lista_parole))\n",
    "    choose_words = np.append(choose_words, lista_parole[index])\n",
    "print(\"Parole estratte: \" + str(choose_words))\n",
    "np.random.shuffle(choose_words)\n",
    "print(\"parole mescolate: \" + str(choose_words))\n",
    "print(\"\\n\")\n",
    "\n",
    "#2\n",
    "with open('/Users/nicola/Git/ProgrammingLab2-Nenzi/esercizi/data/2_ex9_sentence.txt', 'r') as file:\n",
    "    sentence = file.read()\n",
    "for i in range(0, 5):\n",
    "    sentence = sentence.replace(\"__\", choose_words[i], 1)\n",
    "print(sentence)\n"
   ]
  },
  {
   "cell_type": "markdown",
   "metadata": {},
   "source": [
    "Esempio di output\n",
    "\n",
    "\n",
    "\"In epoche passate, viveva una donna saggia che era molto orgogliosa dell'antico APPLICAZIONE che proteggeva. \n",
    "Quando un anziano del villaggio venne a chiederle consiglio su come garantire al meglio un raccolto abbondante \n",
    "e le offrì il DEPOSITO come dono, i suoi occhi si spalancarono e lei esclamò una sola parola, \"PRESTAZIONE\".  \n",
    "\n",
    "Radunò il villaggio e, per i successivi 100 giorni, su sua richiesta, gli abitanti cercarono nella foresta un BIRILLO DA BOWLING. \n",
    "Nel 101° giorno, il bambino più giovane del villaggio trovò ciò che stavano cercando e tutti corsero dalla donna saggia per donarglielo. \n",
    "Con un sorriso da un orecchio all’altro, e cantando canti di festa, la donna saggia guardò i suoi compaesani e disse: \n",
    "\"Ora è giunto il tempo del banchetto - nessuno rimarrà mai più senza GIUSTIFICAZIONE!\"  \n",
    "\n",
    "Ci fu grande gioia e celebrazione.\""
   ]
  }
 ],
 "metadata": {
  "kernelspec": {
   "display_name": "Python 3 (ipykernel)",
   "language": "python",
   "name": "python3"
  },
  "language_info": {
   "codemirror_mode": {
    "name": "ipython",
    "version": 3
   },
   "file_extension": ".py",
   "mimetype": "text/x-python",
   "name": "python",
   "nbconvert_exporter": "python",
   "pygments_lexer": "ipython3",
   "version": "3.12.2"
  }
 },
 "nbformat": 4,
 "nbformat_minor": 2
}
